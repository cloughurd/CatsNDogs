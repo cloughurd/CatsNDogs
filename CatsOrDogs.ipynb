{
 "cells": [
  {
   "cell_type": "code",
   "execution_count": 4,
   "metadata": {},
   "outputs": [
    {
     "name": "stderr",
     "output_type": "stream",
     "text": [
      "/home/durt/anaconda3/lib/python3.7/site-packages/ipykernel_launcher.py:15: UserWarning: Update your `Dense` call to the Keras 2 API: `Dense(activation=\"relu\", units=128)`\n",
      "  from ipykernel import kernelapp as app\n",
      "/home/durt/anaconda3/lib/python3.7/site-packages/ipykernel_launcher.py:16: UserWarning: Update your `Dense` call to the Keras 2 API: `Dense(activation=\"sigmoid\", units=1)`\n",
      "  app.launch_new_instance()\n"
     ]
    },
    {
     "name": "stdout",
     "output_type": "stream",
     "text": [
      "Found 8000 images belonging to 2 classes.\n",
      "Found 2000 images belonging to 2 classes.\n",
      "WARNING:tensorflow:From /home/durt/anaconda3/lib/python3.7/site-packages/tensorflow/python/ops/math_ops.py:3066: to_int32 (from tensorflow.python.ops.math_ops) is deprecated and will be removed in a future version.\n",
      "Instructions for updating:\n",
      "Use tf.cast instead.\n",
      "Epoch 1/3\n",
      "4000/4000 [==============================] - 1086s 271ms/step - loss: 0.5575 - acc: 0.7048 - val_loss: 0.5408 - val_acc: 0.7375\n",
      "Epoch 2/3\n",
      "4000/4000 [==============================] - 1082s 270ms/step - loss: 0.4668 - acc: 0.7702 - val_loss: 0.5272 - val_acc: 0.7799\n",
      "Epoch 3/3\n",
      "4000/4000 [==============================] - 1068s 267ms/step - loss: 0.4319 - acc: 0.7878 - val_loss: 0.5795 - val_acc: 0.7583\n",
      "Done!\n"
     ]
    }
   ],
   "source": [
    "from keras.models import Sequential\n",
    "from keras.layers import Convolution2D\n",
    "from keras.layers import MaxPooling2D\n",
    "from keras.layers import Flatten\n",
    "from keras.layers import Dense\n",
    "\n",
    "classifier = Sequential()\n",
    "\n",
    "classifier.add(Convolution2D(32, (3, 3), input_shape = (64, 64, 3), activation = 'relu'))\n",
    "\n",
    "classifier.add(MaxPooling2D(pool_size = (2, 2)))\n",
    "\n",
    "classifier.add(Flatten())\n",
    "\n",
    "classifier.add(Dense(activation = 'relu', units = 128))\n",
    "classifier.add(Dense(activation = 'sigmoid', units = 1))\n",
    "\n",
    "classifier.compile(optimizer = 'adam', loss = 'binary_crossentropy', metrics = ['accuracy'])\n",
    "\n",
    "from keras.preprocessing.image import ImageDataGenerator\n",
    "\n",
    "train_datagen = ImageDataGenerator(rescale=1./255, shear_range=0.2, zoom_range=0.2, horizontal_flip=True)\n",
    "\n",
    "test_datagen = ImageDataGenerator(rescale=1./255)\n",
    "\n",
    "training_set = train_datagen.flow_from_directory('CatsDogs_data/training_set', \n",
    "                                                target_size = (64, 64), batch_size = 32,\n",
    "                                                class_mode = 'binary')\n",
    "\n",
    "test_set = test_datagen.flow_from_directory('CatsDogs_data/test_set',\n",
    "                                           target_size = (64, 64), batch_size = 32,\n",
    "                                           class_mode = 'binary')\n",
    "\n",
    "from IPython.display import display\n",
    "from PIL import Image\n",
    "\n",
    "classifier.fit_generator(training_set, steps_per_epoch = 8000,\n",
    "                        epochs = 10,\n",
    "                        validation_data = test_set,\n",
    "                        validation_steps = 800)\n",
    "\n",
    "print('Done!')"
   ]
  },
  {
   "cell_type": "code",
   "execution_count": 15,
   "metadata": {},
   "outputs": [],
   "source": [
    "import numpy as np\n",
    "from keras.preprocessing import image\n",
    "def predict(filename):\n",
    "    test_image = image.load_img(filename, target_size = (64, 64))\n",
    "    test_image = image.img_to_array(test_image)\n",
    "    test_image = np.expand_dims(test_image, axis = 0)\n",
    "    result = classifier.predict(test_image)\n",
    "    if result[0][0] >= 0.5:\n",
    "        prediction = 'dog'\n",
    "    else:\n",
    "        prediction = 'cat'\n",
    "    print(result[0][0])\n",
    "    print(prediction)"
   ]
  },
  {
   "cell_type": "code",
   "execution_count": 16,
   "metadata": {},
   "outputs": [
    {
     "name": "stdout",
     "output_type": "stream",
     "text": [
      "1.0\n",
      "dog\n",
      "1.0\n",
      "dog\n",
      "1.0\n",
      "dog\n",
      "1.0\n",
      "dog\n",
      "1.0\n",
      "dog\n",
      "1.0\n",
      "dog\n",
      "1.0\n",
      "dog\n",
      "1.0\n",
      "dog\n",
      "1.0\n",
      "dog\n",
      "1.0\n",
      "dog\n"
     ]
    }
   ],
   "source": [
    "dog_files = [('dog' + str(x) + '.jpg') for x in range(5)]\n",
    "for file in dog_files:\n",
    "    predict(file)\n",
    "    \n",
    "cat_files = [('cat' + str(x) + '.jpg') for x in range(5)]\n",
    "for file in cat_files:\n",
    "    predict(file)"
   ]
  },
  {
   "cell_type": "code",
   "execution_count": null,
   "metadata": {},
   "outputs": [],
   "source": []
  }
 ],
 "metadata": {
  "kernelspec": {
   "display_name": "Python 3",
   "language": "python",
   "name": "python3"
  },
  "language_info": {
   "codemirror_mode": {
    "name": "ipython",
    "version": 3
   },
   "file_extension": ".py",
   "mimetype": "text/x-python",
   "name": "python",
   "nbconvert_exporter": "python",
   "pygments_lexer": "ipython3",
   "version": "3.7.1"
  }
 },
 "nbformat": 4,
 "nbformat_minor": 2
}
